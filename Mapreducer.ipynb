{
  "nbformat": 4,
  "nbformat_minor": 0,
  "metadata": {
    "colab": {
      "provenance": [],
      "authorship_tag": "ABX9TyN7wL3gVbYJnZFziKJNJ957",
      "include_colab_link": true
    },
    "kernelspec": {
      "name": "python3",
      "display_name": "Python 3"
    },
    "language_info": {
      "name": "python"
    }
  },
  "cells": [
    {
      "cell_type": "markdown",
      "metadata": {
        "id": "view-in-github",
        "colab_type": "text"
      },
      "source": [
        "<a href=\"https://colab.research.google.com/github/richapatel93/Data-Mining-Class/blob/main/Mapreducer.ipynb\" target=\"_parent\"><img src=\"https://colab.research.google.com/assets/colab-badge.svg\" alt=\"Open In Colab\"/></a>"
      ]
    },
    {
      "cell_type": "code",
      "source": [
        "!apt-get install openjdk-8-jdk -y\n",
        "!apt-get install spark -y\n",
        "!pip install -q findspark\n"
      ],
      "metadata": {
        "colab": {
          "base_uri": "https://localhost:8080/"
        },
        "id": "DrAnJ4S2KEyi",
        "outputId": "4465687f-24ac-4ec7-842f-5d5c17a9334f"
      },
      "execution_count": null,
      "outputs": [
        {
          "output_type": "stream",
          "name": "stdout",
          "text": [
            "Reading package lists... Done\n",
            "Building dependency tree... Done\n",
            "Reading state information... Done\n",
            "openjdk-8-jdk is already the newest version (8u422-b05-1~22.04).\n",
            "0 upgraded, 0 newly installed, 0 to remove and 49 not upgraded.\n",
            "Reading package lists... Done\n",
            "Building dependency tree... Done\n",
            "Reading state information... Done\n",
            "E: Unable to locate package spark\n"
          ]
        }
      ]
    },
    {
      "cell_type": "code",
      "source": [
        "import re\n",
        "from pyspark import SparkContext\n",
        "\n",
        "# Check if a SparkContext already exists and stop it if so\n",
        "try:\n",
        "    sc.stop()\n",
        "except:\n",
        "    pass\n",
        "\n",
        "# Create a new SparkContext\n",
        "sc = SparkContext(\"local\", \"Longest Words Example\")\n",
        "\n",
        "# Upload the text file\n",
        "from google.colab import files\n",
        "uploaded = files.upload()\n",
        "\n",
        "# Load the text file into an RDD\n",
        "file_name = list(uploaded.keys())[0]\n",
        "rdd = sc.textFile(file_name)\n",
        "\n",
        "# Define a function to clean and filter out unwanted characters\n",
        "def clean_word(word):\n",
        "    # Remove URLs and non-alphabetic characters\n",
        "    word = re.sub(r'http\\S+', '', word)  # Remove URLs\n",
        "    word = re.sub(r'[^a-zA-Z]', '', word)  # Keep only alphabetic characters\n",
        "    return word\n",
        "\n",
        "# Split the text into words and clean them\n",
        "words = rdd.flatMap(lambda line: re.findall(r'\\b\\w+\\b', line)) \\\n",
        "           .map(lambda word: clean_word(word.lower())) \\\n",
        "           .filter(lambda word: len(word) > 1)  # Filter out very short words\n",
        "\n",
        "# Remove duplicates\n",
        "words = words.distinct()\n",
        "\n",
        "# Find the length of each word and map them as (word, length)\n",
        "word_lengths = words.map(lambda word: (word, len(word)))\n",
        "\n",
        "# Collect all word-length pairs and sort by length (descending) to find the longest words\n",
        "longest_words = word_lengths.takeOrdered(10, key=lambda x: -x[1])\n",
        "\n",
        "# Display the top 10 longest words\n",
        "for word, length in longest_words:\n",
        "    print(f\"Word: {word}, Length: {length}\")\n"
      ],
      "metadata": {
        "colab": {
          "base_uri": "https://localhost:8080/",
          "height": 252
        },
        "id": "zTzM-55SPT5Z",
        "outputId": "59c52b94-662b-48bc-9689-7a74059c4353"
      },
      "execution_count": null,
      "outputs": [
        {
          "output_type": "display_data",
          "data": {
            "text/plain": [
              "<IPython.core.display.HTML object>"
            ],
            "text/html": [
              "\n",
              "     <input type=\"file\" id=\"files-30c43c0b-1276-49b0-ad8e-e753f8f54310\" name=\"files[]\" multiple disabled\n",
              "        style=\"border:none\" />\n",
              "     <output id=\"result-30c43c0b-1276-49b0-ad8e-e753f8f54310\">\n",
              "      Upload widget is only available when the cell has been executed in the\n",
              "      current browser session. Please rerun this cell to enable.\n",
              "      </output>\n",
              "      <script>// Copyright 2017 Google LLC\n",
              "//\n",
              "// Licensed under the Apache License, Version 2.0 (the \"License\");\n",
              "// you may not use this file except in compliance with the License.\n",
              "// You may obtain a copy of the License at\n",
              "//\n",
              "//      http://www.apache.org/licenses/LICENSE-2.0\n",
              "//\n",
              "// Unless required by applicable law or agreed to in writing, software\n",
              "// distributed under the License is distributed on an \"AS IS\" BASIS,\n",
              "// WITHOUT WARRANTIES OR CONDITIONS OF ANY KIND, either express or implied.\n",
              "// See the License for the specific language governing permissions and\n",
              "// limitations under the License.\n",
              "\n",
              "/**\n",
              " * @fileoverview Helpers for google.colab Python module.\n",
              " */\n",
              "(function(scope) {\n",
              "function span(text, styleAttributes = {}) {\n",
              "  const element = document.createElement('span');\n",
              "  element.textContent = text;\n",
              "  for (const key of Object.keys(styleAttributes)) {\n",
              "    element.style[key] = styleAttributes[key];\n",
              "  }\n",
              "  return element;\n",
              "}\n",
              "\n",
              "// Max number of bytes which will be uploaded at a time.\n",
              "const MAX_PAYLOAD_SIZE = 100 * 1024;\n",
              "\n",
              "function _uploadFiles(inputId, outputId) {\n",
              "  const steps = uploadFilesStep(inputId, outputId);\n",
              "  const outputElement = document.getElementById(outputId);\n",
              "  // Cache steps on the outputElement to make it available for the next call\n",
              "  // to uploadFilesContinue from Python.\n",
              "  outputElement.steps = steps;\n",
              "\n",
              "  return _uploadFilesContinue(outputId);\n",
              "}\n",
              "\n",
              "// This is roughly an async generator (not supported in the browser yet),\n",
              "// where there are multiple asynchronous steps and the Python side is going\n",
              "// to poll for completion of each step.\n",
              "// This uses a Promise to block the python side on completion of each step,\n",
              "// then passes the result of the previous step as the input to the next step.\n",
              "function _uploadFilesContinue(outputId) {\n",
              "  const outputElement = document.getElementById(outputId);\n",
              "  const steps = outputElement.steps;\n",
              "\n",
              "  const next = steps.next(outputElement.lastPromiseValue);\n",
              "  return Promise.resolve(next.value.promise).then((value) => {\n",
              "    // Cache the last promise value to make it available to the next\n",
              "    // step of the generator.\n",
              "    outputElement.lastPromiseValue = value;\n",
              "    return next.value.response;\n",
              "  });\n",
              "}\n",
              "\n",
              "/**\n",
              " * Generator function which is called between each async step of the upload\n",
              " * process.\n",
              " * @param {string} inputId Element ID of the input file picker element.\n",
              " * @param {string} outputId Element ID of the output display.\n",
              " * @return {!Iterable<!Object>} Iterable of next steps.\n",
              " */\n",
              "function* uploadFilesStep(inputId, outputId) {\n",
              "  const inputElement = document.getElementById(inputId);\n",
              "  inputElement.disabled = false;\n",
              "\n",
              "  const outputElement = document.getElementById(outputId);\n",
              "  outputElement.innerHTML = '';\n",
              "\n",
              "  const pickedPromise = new Promise((resolve) => {\n",
              "    inputElement.addEventListener('change', (e) => {\n",
              "      resolve(e.target.files);\n",
              "    });\n",
              "  });\n",
              "\n",
              "  const cancel = document.createElement('button');\n",
              "  inputElement.parentElement.appendChild(cancel);\n",
              "  cancel.textContent = 'Cancel upload';\n",
              "  const cancelPromise = new Promise((resolve) => {\n",
              "    cancel.onclick = () => {\n",
              "      resolve(null);\n",
              "    };\n",
              "  });\n",
              "\n",
              "  // Wait for the user to pick the files.\n",
              "  const files = yield {\n",
              "    promise: Promise.race([pickedPromise, cancelPromise]),\n",
              "    response: {\n",
              "      action: 'starting',\n",
              "    }\n",
              "  };\n",
              "\n",
              "  cancel.remove();\n",
              "\n",
              "  // Disable the input element since further picks are not allowed.\n",
              "  inputElement.disabled = true;\n",
              "\n",
              "  if (!files) {\n",
              "    return {\n",
              "      response: {\n",
              "        action: 'complete',\n",
              "      }\n",
              "    };\n",
              "  }\n",
              "\n",
              "  for (const file of files) {\n",
              "    const li = document.createElement('li');\n",
              "    li.append(span(file.name, {fontWeight: 'bold'}));\n",
              "    li.append(span(\n",
              "        `(${file.type || 'n/a'}) - ${file.size} bytes, ` +\n",
              "        `last modified: ${\n",
              "            file.lastModifiedDate ? file.lastModifiedDate.toLocaleDateString() :\n",
              "                                    'n/a'} - `));\n",
              "    const percent = span('0% done');\n",
              "    li.appendChild(percent);\n",
              "\n",
              "    outputElement.appendChild(li);\n",
              "\n",
              "    const fileDataPromise = new Promise((resolve) => {\n",
              "      const reader = new FileReader();\n",
              "      reader.onload = (e) => {\n",
              "        resolve(e.target.result);\n",
              "      };\n",
              "      reader.readAsArrayBuffer(file);\n",
              "    });\n",
              "    // Wait for the data to be ready.\n",
              "    let fileData = yield {\n",
              "      promise: fileDataPromise,\n",
              "      response: {\n",
              "        action: 'continue',\n",
              "      }\n",
              "    };\n",
              "\n",
              "    // Use a chunked sending to avoid message size limits. See b/62115660.\n",
              "    let position = 0;\n",
              "    do {\n",
              "      const length = Math.min(fileData.byteLength - position, MAX_PAYLOAD_SIZE);\n",
              "      const chunk = new Uint8Array(fileData, position, length);\n",
              "      position += length;\n",
              "\n",
              "      const base64 = btoa(String.fromCharCode.apply(null, chunk));\n",
              "      yield {\n",
              "        response: {\n",
              "          action: 'append',\n",
              "          file: file.name,\n",
              "          data: base64,\n",
              "        },\n",
              "      };\n",
              "\n",
              "      let percentDone = fileData.byteLength === 0 ?\n",
              "          100 :\n",
              "          Math.round((position / fileData.byteLength) * 100);\n",
              "      percent.textContent = `${percentDone}% done`;\n",
              "\n",
              "    } while (position < fileData.byteLength);\n",
              "  }\n",
              "\n",
              "  // All done.\n",
              "  yield {\n",
              "    response: {\n",
              "      action: 'complete',\n",
              "    }\n",
              "  };\n",
              "}\n",
              "\n",
              "scope.google = scope.google || {};\n",
              "scope.google.colab = scope.google.colab || {};\n",
              "scope.google.colab._files = {\n",
              "  _uploadFiles,\n",
              "  _uploadFilesContinue,\n",
              "};\n",
              "})(self);\n",
              "</script> "
            ]
          },
          "metadata": {}
        },
        {
          "output_type": "stream",
          "name": "stdout",
          "text": [
            "Saving the black.txt to the black (3).txt\n",
            "Word: disnaturalisation, Length: 17\n",
            "Word: circumnavigators, Length: 16\n",
            "Word: circumnavigation, Length: 16\n",
            "Word: chialinchechilin, Length: 16\n",
            "Word: unenforceability, Length: 16\n",
            "Word: procrastination, Length: 15\n",
            "Word: notwithstanding, Length: 15\n",
            "Word: contemporaneous, Length: 15\n",
            "Word: perpendicularly, Length: 15\n",
            "Word: circumnavigated, Length: 15\n"
          ]
        }
      ]
    },
    {
      "cell_type": "markdown",
      "source": [
        "# Task 2: Finding and Listing the Most Frequent Bigrams"
      ],
      "metadata": {
        "id": "lktllgOKPlSw"
      }
    },
    {
      "cell_type": "code",
      "source": [
        "# Create bigrams by combining consecutive words\n",
        "bigrams = words.zipWithIndex() \\\n",
        "               .map(lambda x: (x[1], x[0])) \\\n",
        "               .join(words.zipWithIndex().map(lambda x: (x[1] - 1, x[0]))) \\\n",
        "               .map(lambda x: (x[1][0], x[1][1])) \\\n",
        "               .filter(lambda bigram: len(bigram[0]) > 1 and len(bigram[1]) > 1)\n",
        "\n",
        "# Count the frequency of each bigram\n",
        "bigram_counts = bigrams.map(lambda bigram: (bigram, 1)) \\\n",
        "                       .reduceByKey(lambda a, b: a + b)\n",
        "\n",
        "# Get the top 10 most frequent bigrams\n",
        "top_bigrams = bigram_counts.takeOrdered(10, key=lambda x: -x[1])\n",
        "\n",
        "# Display the top 10 bigrams with their counts\n",
        "for bigram, count in top_bigrams:\n",
        "    print(f\"Bigram: {' '.join(bigram)}, Count: {count}\")\n"
      ],
      "metadata": {
        "colab": {
          "base_uri": "https://localhost:8080/"
        },
        "id": "2RmmcoZ-gve3",
        "outputId": "1b87cfe6-2d61-48e6-8318-1d9766fcf075"
      },
      "execution_count": 33,
      "outputs": [
        {
          "output_type": "stream",
          "name": "stdout",
          "text": [
            "Bigram: of the, Count: 1142\n",
            "Bigram: to the, Count: 680\n",
            "Bigram: in the, Count: 530\n",
            "Bigram: and the, Count: 385\n",
            "Bigram: on the, Count: 252\n",
            "Bigram: from the, Count: 237\n",
            "Bigram: to be, Count: 209\n",
            "Bigram: that the, Count: 201\n",
            "Bigram: and they, Count: 201\n",
            "Bigram: with the, Count: 195\n"
          ]
        }
      ]
    },
    {
      "cell_type": "markdown",
      "source": [
        "## Task 3: Customized Statistic"
      ],
      "metadata": {
        "id": "_bGBvCcihAgl"
      }
    },
    {
      "cell_type": "code",
      "source": [
        "import re\n",
        "\n",
        "# Function to clean words: convert to lowercase and remove non-alphanumeric characters\n",
        "def clean_word(word):\n",
        "    return re.sub(r'[^a-zA-Z0-9]', '', word.lower())\n",
        "\n",
        "# Split the text into words and clean each word\n",
        "words = rdd.flatMap(lambda line: line.split())\n",
        "\n",
        "# Clean the words to remove punctuation and make them lowercase\n",
        "cleaned_words = words.map(clean_word)\n",
        "\n",
        "# Filter words that start with 'a'\n",
        "words_starting_with_a = cleaned_words.filter(lambda word: word.startswith('a'))\n",
        "\n",
        "# Count the occurrences of each cleaned word starting with 'a'\n",
        "word_counts = words_starting_with_a.map(lambda word: (word, 1)) \\\n",
        "                                   .reduceByKey(lambda a, b: a + b)\n",
        "\n",
        "# Filter words that appear more than once\n",
        "frequent_words_with_a = word_counts.filter(lambda x: x[1] > 1)\n",
        "\n",
        "# Get the top 10 most frequent words starting with 'a' that appear more than once\n",
        "top_frequent_words_with_a = frequent_words_with_a.takeOrdered(10, key=lambda x: -x[1])\n",
        "\n",
        "# Display the top frequent words starting with 'a' with their counts\n",
        "for word, count in top_frequent_words_with_a:\n",
        "    print(f\"Word: {word}, Count: {count}\")\n"
      ],
      "metadata": {
        "colab": {
          "base_uri": "https://localhost:8080/"
        },
        "id": "B3iOK6dWQVNR",
        "outputId": "605ac47b-717c-4d57-b2d1-c804283e7a09"
      },
      "execution_count": null,
      "outputs": [
        {
          "output_type": "stream",
          "name": "stdout",
          "text": [
            "Word: and, Count: 4821\n",
            "Word: a, Count: 1928\n",
            "Word: as, Count: 718\n",
            "Word: at, Count: 562\n",
            "Word: are, Count: 541\n",
            "Word: all, Count: 364\n",
            "Word: an, Count: 239\n",
            "Word: after, Count: 174\n",
            "Word: also, Count: 172\n",
            "Word: another, Count: 159\n"
          ]
        }
      ]
    }
  ]
}