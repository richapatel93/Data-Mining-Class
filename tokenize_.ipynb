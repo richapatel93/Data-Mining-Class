{
  "nbformat": 4,
  "nbformat_minor": 0,
  "metadata": {
    "colab": {
      "provenance": [],
      "authorship_tag": "ABX9TyMsKpf0TqMekeRkfAG29Dfl",
      "include_colab_link": true
    },
    "kernelspec": {
      "name": "python3",
      "display_name": "Python 3"
    },
    "language_info": {
      "name": "python"
    }
  },
  "cells": [
    {
      "cell_type": "markdown",
      "metadata": {
        "id": "view-in-github",
        "colab_type": "text"
      },
      "source": [
        "<a href=\"https://colab.research.google.com/github/richapatel93/Data-Mining-Class/blob/main/tokenize_.ipynb\" target=\"_parent\"><img src=\"https://colab.research.google.com/assets/colab-badge.svg\" alt=\"Open In Colab\"/></a>"
      ]
    },
    {
      "cell_type": "markdown",
      "source": [
        "# Create the file using Python"
      ],
      "metadata": {
        "id": "FX7efzdofZmc"
      }
    },
    {
      "cell_type": "code",
      "execution_count": 1,
      "metadata": {
        "id": "PlNgH0Ghd7x_"
      },
      "outputs": [],
      "source": [
        "sample_text = \"\"\"The Cat in the Hat\n",
        "By Dr. Seuss\n",
        "The sun did not shine.\n",
        "It was too wet to play.\n",
        "So we sat in the house\n",
        "All that cold, cold, wet day.\"\"\"\n",
        "\n",
        "with open(\"sample.txt\", \"w\") as file:\n",
        "    file.write(sample_text)\n"
      ]
    },
    {
      "cell_type": "markdown",
      "source": [
        "Read the File in Python"
      ],
      "metadata": {
        "id": "tl5BbPf5fchx"
      }
    },
    {
      "cell_type": "code",
      "source": [
        "with open(\"sample.txt\", \"r\", encoding=\"utf-8\") as file:\n",
        "    text = file.read()\n",
        "\n",
        "print(text)  # Check the output to make sure the file is read correctly\n"
      ],
      "metadata": {
        "colab": {
          "base_uri": "https://localhost:8080/"
        },
        "id": "ADyNLJote7xu",
        "outputId": "1ce7b9da-9484-4796-9eef-e1fd33988117"
      },
      "execution_count": 2,
      "outputs": [
        {
          "output_type": "stream",
          "name": "stdout",
          "text": [
            "The Cat in the Hat\n",
            "By Dr. Seuss\n",
            "The sun did not shine.\n",
            "It was too wet to play.\n",
            "So we sat in the house\n",
            "All that cold, cold, wet day.\n"
          ]
        }
      ]
    },
    {
      "cell_type": "markdown",
      "source": [
        "# Tokenization"
      ],
      "metadata": {
        "id": "672ynRBgfAhr"
      }
    },
    {
      "cell_type": "code",
      "source": [
        "import re\n",
        "\n",
        "# Tokenize the text (split into words)\n",
        "tokens = re.findall(r'\\b\\w+\\b', text.lower())  # Convert text to lowercase and extract words\n",
        "\n",
        "print(tokens)  # Print to check tokenized words\n"
      ],
      "metadata": {
        "colab": {
          "base_uri": "https://localhost:8080/"
        },
        "id": "RF7CQAmIfBtN",
        "outputId": "b5e03aa0-c535-4c54-9040-d7dd871f3e4f"
      },
      "execution_count": 3,
      "outputs": [
        {
          "output_type": "stream",
          "name": "stdout",
          "text": [
            "['the', 'cat', 'in', 'the', 'hat', 'by', 'dr', 'seuss', 'the', 'sun', 'did', 'not', 'shine', 'it', 'was', 'too', 'wet', 'to', 'play', 'so', 'we', 'sat', 'in', 'the', 'house', 'all', 'that', 'cold', 'cold', 'wet', 'day']\n"
          ]
        }
      ]
    },
    {
      "cell_type": "markdown",
      "source": [
        "# Count the Tokens"
      ],
      "metadata": {
        "id": "YgKqdLDdfIKN"
      }
    },
    {
      "cell_type": "code",
      "source": [
        "# Count total tokens (including duplicates)\n",
        "total_tokens = len(tokens)\n",
        "\n",
        "# Count distinct tokens (unique words)\n",
        "distinct_tokens = len(set(tokens))\n",
        "\n",
        "print(\"Total number of tokens:\", total_tokens)\n",
        "print(\"Number of distinct tokens:\", distinct_tokens)\n"
      ],
      "metadata": {
        "colab": {
          "base_uri": "https://localhost:8080/"
        },
        "id": "SwGASPY7fIrD",
        "outputId": "3c427710-95b5-4ec7-c1b5-29bd6ddd74df"
      },
      "execution_count": 4,
      "outputs": [
        {
          "output_type": "stream",
          "name": "stdout",
          "text": [
            "Total number of tokens: 31\n",
            "Number of distinct tokens: 25\n"
          ]
        }
      ]
    }
  ]
}