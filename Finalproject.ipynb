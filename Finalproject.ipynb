{
  "nbformat": 4,
  "nbformat_minor": 0,
  "metadata": {
    "colab": {
      "provenance": [],
      "authorship_tag": "ABX9TyPlpZ8RGxNwsVZWiormbQmf",
      "include_colab_link": true
    },
    "kernelspec": {
      "name": "python3",
      "display_name": "Python 3"
    },
    "language_info": {
      "name": "python"
    }
  },
  "cells": [
    {
      "cell_type": "markdown",
      "metadata": {
        "id": "view-in-github",
        "colab_type": "text"
      },
      "source": [
        "<a href=\"https://colab.research.google.com/github/richapatel93/Data-Mining-Class/blob/main/Finalproject.ipynb\" target=\"_parent\"><img src=\"https://colab.research.google.com/assets/colab-badge.svg\" alt=\"Open In Colab\"/></a>"
      ]
    },
    {
      "cell_type": "markdown",
      "source": [
        "\n",
        "# Setting Up Environment and Loading Data\n"
      ],
      "metadata": {
        "id": "aFj7y0ZiBl_P"
      }
    },
    {
      "cell_type": "code",
      "source": [
        "# Step 1: Import necessary libraries\n",
        "import pandas as pd\n",
        "from google.colab import files\n",
        "\n",
        "# Step 2: Upload the CSV files\n",
        "print(\"Please upload the 'application_record.csv' file:\")\n",
        "uploaded_app = files.upload()  # Upload 'application_record.csv'\n",
        "\n",
        "print(\"Please upload the 'credit_record.csv' file:\")\n",
        "uploaded_credit = files.upload()  # Upload 'credit_record.csv'\n",
        "\n",
        "# Step 3: Load the uploaded CSV files\n",
        "app_file_name = list(uploaded_app.keys())[0]  # Get the uploaded application file name\n",
        "credit_file_name = list(uploaded_credit.keys())[0]  # Get the uploaded credit file name\n",
        "\n",
        "# Read the files into pandas DataFrames\n",
        "app_data = pd.read_csv(app_file_name)\n",
        "credit_data = pd.read_csv(credit_file_name)\n",
        "\n",
        "# Step 4: Preview the data\n",
        "print(\"\\nApplication Data (first 5 rows):\")\n",
        "print(app_data.head())\n",
        "\n",
        "print(\"\\nCredit Data (first 5 rows):\")\n",
        "print(credit_data.head())\n"
      ],
      "metadata": {
        "colab": {
          "base_uri": "https://localhost:8080/",
          "height": 952
        },
        "id": "NkQgIWOJELW_",
        "outputId": "67a61e81-3b1c-4339-c588-180ea57681c0"
      },
      "execution_count": null,
      "outputs": [
        {
          "output_type": "stream",
          "name": "stdout",
          "text": [
            "Please upload the 'application_record.csv' file:\n"
          ]
        },
        {
          "output_type": "display_data",
          "data": {
            "text/plain": [
              "<IPython.core.display.HTML object>"
            ],
            "text/html": [
              "\n",
              "     <input type=\"file\" id=\"files-36f6e081-e364-4f1a-a968-cda9dd6ed234\" name=\"files[]\" multiple disabled\n",
              "        style=\"border:none\" />\n",
              "     <output id=\"result-36f6e081-e364-4f1a-a968-cda9dd6ed234\">\n",
              "      Upload widget is only available when the cell has been executed in the\n",
              "      current browser session. Please rerun this cell to enable.\n",
              "      </output>\n",
              "      <script>// Copyright 2017 Google LLC\n",
              "//\n",
              "// Licensed under the Apache License, Version 2.0 (the \"License\");\n",
              "// you may not use this file except in compliance with the License.\n",
              "// You may obtain a copy of the License at\n",
              "//\n",
              "//      http://www.apache.org/licenses/LICENSE-2.0\n",
              "//\n",
              "// Unless required by applicable law or agreed to in writing, software\n",
              "// distributed under the License is distributed on an \"AS IS\" BASIS,\n",
              "// WITHOUT WARRANTIES OR CONDITIONS OF ANY KIND, either express or implied.\n",
              "// See the License for the specific language governing permissions and\n",
              "// limitations under the License.\n",
              "\n",
              "/**\n",
              " * @fileoverview Helpers for google.colab Python module.\n",
              " */\n",
              "(function(scope) {\n",
              "function span(text, styleAttributes = {}) {\n",
              "  const element = document.createElement('span');\n",
              "  element.textContent = text;\n",
              "  for (const key of Object.keys(styleAttributes)) {\n",
              "    element.style[key] = styleAttributes[key];\n",
              "  }\n",
              "  return element;\n",
              "}\n",
              "\n",
              "// Max number of bytes which will be uploaded at a time.\n",
              "const MAX_PAYLOAD_SIZE = 100 * 1024;\n",
              "\n",
              "function _uploadFiles(inputId, outputId) {\n",
              "  const steps = uploadFilesStep(inputId, outputId);\n",
              "  const outputElement = document.getElementById(outputId);\n",
              "  // Cache steps on the outputElement to make it available for the next call\n",
              "  // to uploadFilesContinue from Python.\n",
              "  outputElement.steps = steps;\n",
              "\n",
              "  return _uploadFilesContinue(outputId);\n",
              "}\n",
              "\n",
              "// This is roughly an async generator (not supported in the browser yet),\n",
              "// where there are multiple asynchronous steps and the Python side is going\n",
              "// to poll for completion of each step.\n",
              "// This uses a Promise to block the python side on completion of each step,\n",
              "// then passes the result of the previous step as the input to the next step.\n",
              "function _uploadFilesContinue(outputId) {\n",
              "  const outputElement = document.getElementById(outputId);\n",
              "  const steps = outputElement.steps;\n",
              "\n",
              "  const next = steps.next(outputElement.lastPromiseValue);\n",
              "  return Promise.resolve(next.value.promise).then((value) => {\n",
              "    // Cache the last promise value to make it available to the next\n",
              "    // step of the generator.\n",
              "    outputElement.lastPromiseValue = value;\n",
              "    return next.value.response;\n",
              "  });\n",
              "}\n",
              "\n",
              "/**\n",
              " * Generator function which is called between each async step of the upload\n",
              " * process.\n",
              " * @param {string} inputId Element ID of the input file picker element.\n",
              " * @param {string} outputId Element ID of the output display.\n",
              " * @return {!Iterable<!Object>} Iterable of next steps.\n",
              " */\n",
              "function* uploadFilesStep(inputId, outputId) {\n",
              "  const inputElement = document.getElementById(inputId);\n",
              "  inputElement.disabled = false;\n",
              "\n",
              "  const outputElement = document.getElementById(outputId);\n",
              "  outputElement.innerHTML = '';\n",
              "\n",
              "  const pickedPromise = new Promise((resolve) => {\n",
              "    inputElement.addEventListener('change', (e) => {\n",
              "      resolve(e.target.files);\n",
              "    });\n",
              "  });\n",
              "\n",
              "  const cancel = document.createElement('button');\n",
              "  inputElement.parentElement.appendChild(cancel);\n",
              "  cancel.textContent = 'Cancel upload';\n",
              "  const cancelPromise = new Promise((resolve) => {\n",
              "    cancel.onclick = () => {\n",
              "      resolve(null);\n",
              "    };\n",
              "  });\n",
              "\n",
              "  // Wait for the user to pick the files.\n",
              "  const files = yield {\n",
              "    promise: Promise.race([pickedPromise, cancelPromise]),\n",
              "    response: {\n",
              "      action: 'starting',\n",
              "    }\n",
              "  };\n",
              "\n",
              "  cancel.remove();\n",
              "\n",
              "  // Disable the input element since further picks are not allowed.\n",
              "  inputElement.disabled = true;\n",
              "\n",
              "  if (!files) {\n",
              "    return {\n",
              "      response: {\n",
              "        action: 'complete',\n",
              "      }\n",
              "    };\n",
              "  }\n",
              "\n",
              "  for (const file of files) {\n",
              "    const li = document.createElement('li');\n",
              "    li.append(span(file.name, {fontWeight: 'bold'}));\n",
              "    li.append(span(\n",
              "        `(${file.type || 'n/a'}) - ${file.size} bytes, ` +\n",
              "        `last modified: ${\n",
              "            file.lastModifiedDate ? file.lastModifiedDate.toLocaleDateString() :\n",
              "                                    'n/a'} - `));\n",
              "    const percent = span('0% done');\n",
              "    li.appendChild(percent);\n",
              "\n",
              "    outputElement.appendChild(li);\n",
              "\n",
              "    const fileDataPromise = new Promise((resolve) => {\n",
              "      const reader = new FileReader();\n",
              "      reader.onload = (e) => {\n",
              "        resolve(e.target.result);\n",
              "      };\n",
              "      reader.readAsArrayBuffer(file);\n",
              "    });\n",
              "    // Wait for the data to be ready.\n",
              "    let fileData = yield {\n",
              "      promise: fileDataPromise,\n",
              "      response: {\n",
              "        action: 'continue',\n",
              "      }\n",
              "    };\n",
              "\n",
              "    // Use a chunked sending to avoid message size limits. See b/62115660.\n",
              "    let position = 0;\n",
              "    do {\n",
              "      const length = Math.min(fileData.byteLength - position, MAX_PAYLOAD_SIZE);\n",
              "      const chunk = new Uint8Array(fileData, position, length);\n",
              "      position += length;\n",
              "\n",
              "      const base64 = btoa(String.fromCharCode.apply(null, chunk));\n",
              "      yield {\n",
              "        response: {\n",
              "          action: 'append',\n",
              "          file: file.name,\n",
              "          data: base64,\n",
              "        },\n",
              "      };\n",
              "\n",
              "      let percentDone = fileData.byteLength === 0 ?\n",
              "          100 :\n",
              "          Math.round((position / fileData.byteLength) * 100);\n",
              "      percent.textContent = `${percentDone}% done`;\n",
              "\n",
              "    } while (position < fileData.byteLength);\n",
              "  }\n",
              "\n",
              "  // All done.\n",
              "  yield {\n",
              "    response: {\n",
              "      action: 'complete',\n",
              "    }\n",
              "  };\n",
              "}\n",
              "\n",
              "scope.google = scope.google || {};\n",
              "scope.google.colab = scope.google.colab || {};\n",
              "scope.google.colab._files = {\n",
              "  _uploadFiles,\n",
              "  _uploadFilesContinue,\n",
              "};\n",
              "})(self);\n",
              "</script> "
            ]
          },
          "metadata": {}
        },
        {
          "output_type": "stream",
          "name": "stdout",
          "text": [
            "Saving application_record.csv to application_record.csv\n",
            "Please upload the 'credit_record.csv' file:\n"
          ]
        },
        {
          "output_type": "display_data",
          "data": {
            "text/plain": [
              "<IPython.core.display.HTML object>"
            ],
            "text/html": [
              "\n",
              "     <input type=\"file\" id=\"files-51f45f7c-1748-4f89-832b-a54c1aae0d78\" name=\"files[]\" multiple disabled\n",
              "        style=\"border:none\" />\n",
              "     <output id=\"result-51f45f7c-1748-4f89-832b-a54c1aae0d78\">\n",
              "      Upload widget is only available when the cell has been executed in the\n",
              "      current browser session. Please rerun this cell to enable.\n",
              "      </output>\n",
              "      <script>// Copyright 2017 Google LLC\n",
              "//\n",
              "// Licensed under the Apache License, Version 2.0 (the \"License\");\n",
              "// you may not use this file except in compliance with the License.\n",
              "// You may obtain a copy of the License at\n",
              "//\n",
              "//      http://www.apache.org/licenses/LICENSE-2.0\n",
              "//\n",
              "// Unless required by applicable law or agreed to in writing, software\n",
              "// distributed under the License is distributed on an \"AS IS\" BASIS,\n",
              "// WITHOUT WARRANTIES OR CONDITIONS OF ANY KIND, either express or implied.\n",
              "// See the License for the specific language governing permissions and\n",
              "// limitations under the License.\n",
              "\n",
              "/**\n",
              " * @fileoverview Helpers for google.colab Python module.\n",
              " */\n",
              "(function(scope) {\n",
              "function span(text, styleAttributes = {}) {\n",
              "  const element = document.createElement('span');\n",
              "  element.textContent = text;\n",
              "  for (const key of Object.keys(styleAttributes)) {\n",
              "    element.style[key] = styleAttributes[key];\n",
              "  }\n",
              "  return element;\n",
              "}\n",
              "\n",
              "// Max number of bytes which will be uploaded at a time.\n",
              "const MAX_PAYLOAD_SIZE = 100 * 1024;\n",
              "\n",
              "function _uploadFiles(inputId, outputId) {\n",
              "  const steps = uploadFilesStep(inputId, outputId);\n",
              "  const outputElement = document.getElementById(outputId);\n",
              "  // Cache steps on the outputElement to make it available for the next call\n",
              "  // to uploadFilesContinue from Python.\n",
              "  outputElement.steps = steps;\n",
              "\n",
              "  return _uploadFilesContinue(outputId);\n",
              "}\n",
              "\n",
              "// This is roughly an async generator (not supported in the browser yet),\n",
              "// where there are multiple asynchronous steps and the Python side is going\n",
              "// to poll for completion of each step.\n",
              "// This uses a Promise to block the python side on completion of each step,\n",
              "// then passes the result of the previous step as the input to the next step.\n",
              "function _uploadFilesContinue(outputId) {\n",
              "  const outputElement = document.getElementById(outputId);\n",
              "  const steps = outputElement.steps;\n",
              "\n",
              "  const next = steps.next(outputElement.lastPromiseValue);\n",
              "  return Promise.resolve(next.value.promise).then((value) => {\n",
              "    // Cache the last promise value to make it available to the next\n",
              "    // step of the generator.\n",
              "    outputElement.lastPromiseValue = value;\n",
              "    return next.value.response;\n",
              "  });\n",
              "}\n",
              "\n",
              "/**\n",
              " * Generator function which is called between each async step of the upload\n",
              " * process.\n",
              " * @param {string} inputId Element ID of the input file picker element.\n",
              " * @param {string} outputId Element ID of the output display.\n",
              " * @return {!Iterable<!Object>} Iterable of next steps.\n",
              " */\n",
              "function* uploadFilesStep(inputId, outputId) {\n",
              "  const inputElement = document.getElementById(inputId);\n",
              "  inputElement.disabled = false;\n",
              "\n",
              "  const outputElement = document.getElementById(outputId);\n",
              "  outputElement.innerHTML = '';\n",
              "\n",
              "  const pickedPromise = new Promise((resolve) => {\n",
              "    inputElement.addEventListener('change', (e) => {\n",
              "      resolve(e.target.files);\n",
              "    });\n",
              "  });\n",
              "\n",
              "  const cancel = document.createElement('button');\n",
              "  inputElement.parentElement.appendChild(cancel);\n",
              "  cancel.textContent = 'Cancel upload';\n",
              "  const cancelPromise = new Promise((resolve) => {\n",
              "    cancel.onclick = () => {\n",
              "      resolve(null);\n",
              "    };\n",
              "  });\n",
              "\n",
              "  // Wait for the user to pick the files.\n",
              "  const files = yield {\n",
              "    promise: Promise.race([pickedPromise, cancelPromise]),\n",
              "    response: {\n",
              "      action: 'starting',\n",
              "    }\n",
              "  };\n",
              "\n",
              "  cancel.remove();\n",
              "\n",
              "  // Disable the input element since further picks are not allowed.\n",
              "  inputElement.disabled = true;\n",
              "\n",
              "  if (!files) {\n",
              "    return {\n",
              "      response: {\n",
              "        action: 'complete',\n",
              "      }\n",
              "    };\n",
              "  }\n",
              "\n",
              "  for (const file of files) {\n",
              "    const li = document.createElement('li');\n",
              "    li.append(span(file.name, {fontWeight: 'bold'}));\n",
              "    li.append(span(\n",
              "        `(${file.type || 'n/a'}) - ${file.size} bytes, ` +\n",
              "        `last modified: ${\n",
              "            file.lastModifiedDate ? file.lastModifiedDate.toLocaleDateString() :\n",
              "                                    'n/a'} - `));\n",
              "    const percent = span('0% done');\n",
              "    li.appendChild(percent);\n",
              "\n",
              "    outputElement.appendChild(li);\n",
              "\n",
              "    const fileDataPromise = new Promise((resolve) => {\n",
              "      const reader = new FileReader();\n",
              "      reader.onload = (e) => {\n",
              "        resolve(e.target.result);\n",
              "      };\n",
              "      reader.readAsArrayBuffer(file);\n",
              "    });\n",
              "    // Wait for the data to be ready.\n",
              "    let fileData = yield {\n",
              "      promise: fileDataPromise,\n",
              "      response: {\n",
              "        action: 'continue',\n",
              "      }\n",
              "    };\n",
              "\n",
              "    // Use a chunked sending to avoid message size limits. See b/62115660.\n",
              "    let position = 0;\n",
              "    do {\n",
              "      const length = Math.min(fileData.byteLength - position, MAX_PAYLOAD_SIZE);\n",
              "      const chunk = new Uint8Array(fileData, position, length);\n",
              "      position += length;\n",
              "\n",
              "      const base64 = btoa(String.fromCharCode.apply(null, chunk));\n",
              "      yield {\n",
              "        response: {\n",
              "          action: 'append',\n",
              "          file: file.name,\n",
              "          data: base64,\n",
              "        },\n",
              "      };\n",
              "\n",
              "      let percentDone = fileData.byteLength === 0 ?\n",
              "          100 :\n",
              "          Math.round((position / fileData.byteLength) * 100);\n",
              "      percent.textContent = `${percentDone}% done`;\n",
              "\n",
              "    } while (position < fileData.byteLength);\n",
              "  }\n",
              "\n",
              "  // All done.\n",
              "  yield {\n",
              "    response: {\n",
              "      action: 'complete',\n",
              "    }\n",
              "  };\n",
              "}\n",
              "\n",
              "scope.google = scope.google || {};\n",
              "scope.google.colab = scope.google.colab || {};\n",
              "scope.google.colab._files = {\n",
              "  _uploadFiles,\n",
              "  _uploadFilesContinue,\n",
              "};\n",
              "})(self);\n",
              "</script> "
            ]
          },
          "metadata": {}
        },
        {
          "output_type": "stream",
          "name": "stdout",
          "text": [
            "Saving credit_record.csv to credit_record.csv\n",
            "\n",
            "Application Data (first 5 rows):\n",
            "        ID CODE_GENDER FLAG_OWN_CAR FLAG_OWN_REALTY  CNT_CHILDREN  \\\n",
            "0  5008804           M            Y               Y             0   \n",
            "1  5008805           M            Y               Y             0   \n",
            "2  5008806           M            Y               Y             0   \n",
            "3  5008808           F            N               Y             0   \n",
            "4  5008809           F            N               Y             0   \n",
            "\n",
            "   AMT_INCOME_TOTAL      NAME_INCOME_TYPE            NAME_EDUCATION_TYPE  \\\n",
            "0          427500.0               Working               Higher education   \n",
            "1          427500.0               Working               Higher education   \n",
            "2          112500.0               Working  Secondary / secondary special   \n",
            "3          270000.0  Commercial associate  Secondary / secondary special   \n",
            "4          270000.0  Commercial associate  Secondary / secondary special   \n",
            "\n",
            "     NAME_FAMILY_STATUS  NAME_HOUSING_TYPE  DAYS_BIRTH  DAYS_EMPLOYED  \\\n",
            "0        Civil marriage   Rented apartment      -12005          -4542   \n",
            "1        Civil marriage   Rented apartment      -12005          -4542   \n",
            "2               Married  House / apartment      -21474          -1134   \n",
            "3  Single / not married  House / apartment      -19110          -3051   \n",
            "4  Single / not married  House / apartment      -19110          -3051   \n",
            "\n",
            "   FLAG_MOBIL  FLAG_WORK_PHONE  FLAG_PHONE  FLAG_EMAIL OCCUPATION_TYPE  \\\n",
            "0           1                1           0           0             NaN   \n",
            "1           1                1           0           0             NaN   \n",
            "2           1                0           0           0  Security staff   \n",
            "3           1                0           1           1     Sales staff   \n",
            "4           1                0           1           1     Sales staff   \n",
            "\n",
            "   CNT_FAM_MEMBERS  \n",
            "0              2.0  \n",
            "1              2.0  \n",
            "2              2.0  \n",
            "3              1.0  \n",
            "4              1.0  \n",
            "\n",
            "Credit Data (first 5 rows):\n",
            "        ID  MONTHS_BALANCE STATUS\n",
            "0  5001711               0      X\n",
            "1  5001711              -1      0\n",
            "2  5001711              -2      0\n",
            "3  5001711              -3      0\n",
            "4  5001712               0      C\n"
          ]
        }
      ]
    },
    {
      "cell_type": "markdown",
      "source": [
        "# Step 2:Data Preprocessing and Cleaning"
      ],
      "metadata": {
        "id": "tdwKLlc9FPjk"
      }
    },
    {
      "cell_type": "code",
      "source": [
        "# Step 2: Data Preprocessing and Cleaning\n",
        "\n",
        "# Step 2.1: Handling Missing Values\n",
        "# Check for missing values in both datasets\n",
        "print(\"\\nMissing values in application data:\")\n",
        "print(app_data.isnull().sum())\n",
        "\n",
        "print(\"\\nMissing values in credit data:\")\n",
        "print(credit_data.isnull().sum())\n",
        "\n",
        "# Handling missing values - for simplicity, let's drop rows with missing values\n",
        "app_data_cleaned = app_data.dropna()\n",
        "credit_data_cleaned = credit_data.dropna()\n",
        "\n",
        "# Step 2.2: Changing Data Types (if necessary)\n",
        "# Example: Converting 'ID' column to string (if necessary)\n",
        "app_data_cleaned['ID'] = app_data_cleaned['ID'].astype(str)\n",
        "credit_data_cleaned['ID'] = credit_data_cleaned['ID'].astype(str)\n",
        "\n",
        "# Example of handling warnings by using .loc to ensure modifications are made directly on the DataFrame\n",
        "\n",
        "# Converting 'ID' column to string\n",
        "app_data_cleaned.loc[:, 'ID'] = app_data_cleaned['ID'].astype(str)\n",
        "\n",
        "# Creating the 'has_credit_history' column\n",
        "app_data_cleaned.loc[:, 'has_credit_history'] = app_data_cleaned['ID'].isin(credit_data_cleaned['ID'])\n",
        "\n",
        "# Encoding 'CODE_GENDER' column\n",
        "app_data_cleaned.loc[:, 'CODE_GENDER'] = app_data_cleaned['CODE_GENDER'].map({'M': 1, 'F': 0})\n",
        "\n",
        "\n",
        "# Step 2.3: Feature Engineering\n",
        "# Example: Add a feature to check if the applicant has a credit history or not.\n",
        "app_data_cleaned['has_credit_history'] = app_data_cleaned['ID'].isin(credit_data_cleaned['ID'])\n",
        "\n",
        "# Step 2.4: Handling Categorical Variables\n",
        "# Convert categorical variables (e.g., CODE_GENDER) into numerical values using encoding\n",
        "app_data_cleaned['CODE_GENDER'] = app_data_cleaned['CODE_GENDER'].map({'M': 1, 'F': 0})\n",
        "\n",
        "# Step 2.5: Merging Datasets\n",
        "# Merge application data and credit history data on the 'ID' column\n",
        "merged_data = pd.merge(app_data_cleaned, credit_data_cleaned, on='ID', how='inner')\n",
        "\n",
        "# Preview the cleaned and merged data\n",
        "print(\"\\nMerged Data (first 5 rows):\")\n",
        "print(merged_data.head())\n",
        "\n"
      ],
      "metadata": {
        "colab": {
          "base_uri": "https://localhost:8080/"
        },
        "id": "HH2PYbyPFO-n",
        "outputId": "0ab4bb7a-2f89-4731-eaa9-014ff8905f65"
      },
      "execution_count": null,
      "outputs": [
        {
          "output_type": "stream",
          "name": "stdout",
          "text": [
            "\n",
            "Missing values in application data:\n",
            "ID                          0\n",
            "CODE_GENDER                 0\n",
            "FLAG_OWN_CAR                0\n",
            "FLAG_OWN_REALTY             0\n",
            "CNT_CHILDREN                0\n",
            "AMT_INCOME_TOTAL            0\n",
            "NAME_INCOME_TYPE            0\n",
            "NAME_EDUCATION_TYPE         0\n",
            "NAME_FAMILY_STATUS          0\n",
            "NAME_HOUSING_TYPE           0\n",
            "DAYS_BIRTH                  0\n",
            "DAYS_EMPLOYED               0\n",
            "FLAG_MOBIL                  0\n",
            "FLAG_WORK_PHONE             0\n",
            "FLAG_PHONE                  0\n",
            "FLAG_EMAIL                  0\n",
            "OCCUPATION_TYPE        134203\n",
            "CNT_FAM_MEMBERS             0\n",
            "dtype: int64\n",
            "\n",
            "Missing values in credit data:\n",
            "ID                0\n",
            "MONTHS_BALANCE    0\n",
            "STATUS            0\n",
            "dtype: int64\n"
          ]
        },
        {
          "output_type": "stream",
          "name": "stderr",
          "text": [
            "<ipython-input-9-f95c95a7e864>:17: SettingWithCopyWarning: \n",
            "A value is trying to be set on a copy of a slice from a DataFrame.\n",
            "Try using .loc[row_indexer,col_indexer] = value instead\n",
            "\n",
            "See the caveats in the documentation: https://pandas.pydata.org/pandas-docs/stable/user_guide/indexing.html#returning-a-view-versus-a-copy\n",
            "  app_data_cleaned['ID'] = app_data_cleaned['ID'].astype(str)\n",
            "<ipython-input-9-f95c95a7e864>:26: SettingWithCopyWarning: \n",
            "A value is trying to be set on a copy of a slice from a DataFrame.\n",
            "Try using .loc[row_indexer,col_indexer] = value instead\n",
            "\n",
            "See the caveats in the documentation: https://pandas.pydata.org/pandas-docs/stable/user_guide/indexing.html#returning-a-view-versus-a-copy\n",
            "  app_data_cleaned.loc[:, 'has_credit_history'] = app_data_cleaned['ID'].isin(credit_data_cleaned['ID'])\n",
            "<ipython-input-9-f95c95a7e864>:34: SettingWithCopyWarning: \n",
            "A value is trying to be set on a copy of a slice from a DataFrame.\n",
            "Try using .loc[row_indexer,col_indexer] = value instead\n",
            "\n",
            "See the caveats in the documentation: https://pandas.pydata.org/pandas-docs/stable/user_guide/indexing.html#returning-a-view-versus-a-copy\n",
            "  app_data_cleaned['has_credit_history'] = app_data_cleaned['ID'].isin(credit_data_cleaned['ID'])\n",
            "<ipython-input-9-f95c95a7e864>:38: SettingWithCopyWarning: \n",
            "A value is trying to be set on a copy of a slice from a DataFrame.\n",
            "Try using .loc[row_indexer,col_indexer] = value instead\n",
            "\n",
            "See the caveats in the documentation: https://pandas.pydata.org/pandas-docs/stable/user_guide/indexing.html#returning-a-view-versus-a-copy\n",
            "  app_data_cleaned['CODE_GENDER'] = app_data_cleaned['CODE_GENDER'].map({'M': 1, 'F': 0})\n"
          ]
        },
        {
          "output_type": "stream",
          "name": "stdout",
          "text": [
            "\n",
            "Merged Data (first 5 rows):\n",
            "        ID  CODE_GENDER FLAG_OWN_CAR FLAG_OWN_REALTY  CNT_CHILDREN  \\\n",
            "0  5008806          NaN            Y               Y             0   \n",
            "1  5008806          NaN            Y               Y             0   \n",
            "2  5008806          NaN            Y               Y             0   \n",
            "3  5008806          NaN            Y               Y             0   \n",
            "4  5008806          NaN            Y               Y             0   \n",
            "\n",
            "   AMT_INCOME_TOTAL NAME_INCOME_TYPE            NAME_EDUCATION_TYPE  \\\n",
            "0          112500.0          Working  Secondary / secondary special   \n",
            "1          112500.0          Working  Secondary / secondary special   \n",
            "2          112500.0          Working  Secondary / secondary special   \n",
            "3          112500.0          Working  Secondary / secondary special   \n",
            "4          112500.0          Working  Secondary / secondary special   \n",
            "\n",
            "  NAME_FAMILY_STATUS  NAME_HOUSING_TYPE  ...  DAYS_EMPLOYED  FLAG_MOBIL  \\\n",
            "0            Married  House / apartment  ...          -1134           1   \n",
            "1            Married  House / apartment  ...          -1134           1   \n",
            "2            Married  House / apartment  ...          -1134           1   \n",
            "3            Married  House / apartment  ...          -1134           1   \n",
            "4            Married  House / apartment  ...          -1134           1   \n",
            "\n",
            "   FLAG_WORK_PHONE  FLAG_PHONE  FLAG_EMAIL  OCCUPATION_TYPE CNT_FAM_MEMBERS  \\\n",
            "0                0           0           0   Security staff             2.0   \n",
            "1                0           0           0   Security staff             2.0   \n",
            "2                0           0           0   Security staff             2.0   \n",
            "3                0           0           0   Security staff             2.0   \n",
            "4                0           0           0   Security staff             2.0   \n",
            "\n",
            "   has_credit_history  MONTHS_BALANCE  STATUS  \n",
            "0                True               0       C  \n",
            "1                True              -1       C  \n",
            "2                True              -2       C  \n",
            "3                True              -3       C  \n",
            "4                True              -4       C  \n",
            "\n",
            "[5 rows x 21 columns]\n"
          ]
        }
      ]
    },
    {
      "cell_type": "markdown",
      "source": [
        "# Feature Engineering and Data Preprocessing"
      ],
      "metadata": {
        "id": "DJNCdtN0GsV4"
      }
    },
    {
      "cell_type": "code",
      "source": [
        "# Ensure that we're not working on a slice of the original DataFrame\n",
        "app_data_cleaned = app_data_cleaned.copy()\n",
        "\n",
        "# Encode categorical variables using LabelEncoder\n",
        "app_data_cleaned['CODE_GENDER'] = app_data_cleaned['CODE_GENDER'].map({'M': 1, 'F': 0})  # Already done\n",
        "app_data_cleaned['NAME_INCOME_TYPE'] = LabelEncoder().fit_transform(app_data_cleaned['NAME_INCOME_TYPE'])\n",
        "app_data_cleaned['NAME_EDUCATION_TYPE'] = LabelEncoder().fit_transform(app_data_cleaned['NAME_EDUCATION_TYPE'])\n",
        "app_data_cleaned['NAME_FAMILY_STATUS'] = LabelEncoder().fit_transform(app_data_cleaned['NAME_FAMILY_STATUS'])\n",
        "app_data_cleaned['NAME_HOUSING_TYPE'] = LabelEncoder().fit_transform(app_data_cleaned['NAME_HOUSING_TYPE'])\n",
        "\n",
        "# Create new features like 'Age' and 'Experience'\n",
        "app_data_cleaned['Age'] = (app_data_cleaned['DAYS_BIRTH'] / -365).astype(int)  # Convert DAYS_BIRTH to Age\n",
        "app_data_cleaned['Experience'] = (app_data_cleaned['DAYS_EMPLOYED'] / -365).astype(int)  # Convert DAYS_EMPLOYED to Experience\n",
        "\n",
        "# Handle missing values in 'OCCUPATION_TYPE'\n",
        "app_data_cleaned['OCCUPATION_TYPE'] = app_data_cleaned['OCCUPATION_TYPE'].fillna('Unknown')  # Fill missing occupation type\n",
        "\n",
        "# Feature scaling (if necessary)\n",
        "scaler = StandardScaler()\n",
        "scaled_features = ['AMT_INCOME_TOTAL', 'Age', 'Experience']\n",
        "app_data_cleaned[scaled_features] = scaler.fit_transform(app_data_cleaned[scaled_features])\n",
        "\n",
        "# Final check\n",
        "print(app_data_cleaned.head())\n"
      ],
      "metadata": {
        "colab": {
          "base_uri": "https://localhost:8080/"
        },
        "id": "VXaU2gNbH4DC",
        "outputId": "74d173fc-5aa6-4cd5-f8a2-0b1334f5f965"
      },
      "execution_count": null,
      "outputs": [
        {
          "output_type": "stream",
          "name": "stdout",
          "text": [
            "        ID  CODE_GENDER FLAG_OWN_CAR FLAG_OWN_REALTY  CNT_CHILDREN  \\\n",
            "2  5008806          NaN            Y               Y             0   \n",
            "3  5008808          NaN            N               Y             0   \n",
            "4  5008809          NaN            N               Y             0   \n",
            "5  5008810          NaN            N               Y             0   \n",
            "6  5008811          NaN            N               Y             0   \n",
            "\n",
            "   AMT_INCOME_TOTAL  NAME_INCOME_TYPE  NAME_EDUCATION_TYPE  \\\n",
            "2         -0.704169                 4                    4   \n",
            "3          0.642308                 0                    4   \n",
            "4          0.642308                 0                    4   \n",
            "5          0.642308                 0                    4   \n",
            "6          0.642308                 0                    4   \n",
            "\n",
            "   NAME_FAMILY_STATUS  NAME_HOUSING_TYPE  ...  DAYS_EMPLOYED  FLAG_MOBIL  \\\n",
            "2                   1                  1  ...          -1134           1   \n",
            "3                   3                  1  ...          -3051           1   \n",
            "4                   3                  1  ...          -3051           1   \n",
            "5                   3                  1  ...          -3051           1   \n",
            "6                   3                  1  ...          -3051           1   \n",
            "\n",
            "   FLAG_WORK_PHONE  FLAG_PHONE  FLAG_EMAIL  OCCUPATION_TYPE CNT_FAM_MEMBERS  \\\n",
            "2                0           0           0   Security staff             2.0   \n",
            "3                0           1           1      Sales staff             1.0   \n",
            "4                0           1           1      Sales staff             1.0   \n",
            "5                0           1           1      Sales staff             1.0   \n",
            "6                0           1           1      Sales staff             1.0   \n",
            "\n",
            "   has_credit_history       Age  Experience  \n",
            "2                True  1.877279   -0.559341  \n",
            "3                True  1.249340    0.200571  \n",
            "4                True  1.249340    0.200571  \n",
            "5                True  1.249340    0.200571  \n",
            "6                True  1.249340    0.200571  \n",
            "\n",
            "[5 rows x 21 columns]\n"
          ]
        }
      ]
    },
    {
      "cell_type": "code",
      "source": [
        "# Check the column names in the dataset\n",
        "print(app_data_cleaned.columns)\n"
      ],
      "metadata": {
        "colab": {
          "base_uri": "https://localhost:8080/"
        },
        "id": "eVSKXCq0Iaw-",
        "outputId": "ab98e75b-0fc2-48b6-9f90-fd1a8e4df946"
      },
      "execution_count": null,
      "outputs": [
        {
          "output_type": "stream",
          "name": "stdout",
          "text": [
            "Index(['ID', 'CODE_GENDER', 'FLAG_OWN_CAR', 'FLAG_OWN_REALTY', 'CNT_CHILDREN',\n",
            "       'AMT_INCOME_TOTAL', 'NAME_INCOME_TYPE', 'NAME_EDUCATION_TYPE',\n",
            "       'NAME_FAMILY_STATUS', 'NAME_HOUSING_TYPE', 'DAYS_BIRTH',\n",
            "       'DAYS_EMPLOYED', 'FLAG_MOBIL', 'FLAG_WORK_PHONE', 'FLAG_PHONE',\n",
            "       'FLAG_EMAIL', 'OCCUPATION_TYPE', 'CNT_FAM_MEMBERS',\n",
            "       'has_credit_history', 'Age', 'Experience'],\n",
            "      dtype='object')\n"
          ]
        }
      ]
    },
    {
      "cell_type": "code",
      "source": [
        "# Create a target variable\n",
        "app_data_cleaned['TARGET'] = app_data_cleaned['has_credit_history'].apply(lambda x: 1 if x else 0)\n",
        "\n",
        "# Now split the data\n",
        "X = app_data_cleaned.drop(columns=['ID', 'TARGET'])\n",
        "y = app_data_cleaned['TARGET']\n"
      ],
      "metadata": {
        "id": "v4CYkCs-IuK1"
      },
      "execution_count": null,
      "outputs": []
    },
    {
      "cell_type": "markdown",
      "source": [],
      "metadata": {
        "id": "ZcmaGSEsHJyj"
      }
    },
    {
      "cell_type": "code",
      "source": [
        "from sklearn.preprocessing import LabelEncoder\n",
        "from sklearn.model_selection import train_test_split\n",
        "from sklearn.linear_model import LogisticRegression\n",
        "from sklearn.metrics import accuracy_score, classification_report\n",
        "\n",
        "# Encoding categorical columns to numeric using LabelEncoder\n",
        "label_columns = ['CODE_GENDER', 'FLAG_OWN_CAR', 'FLAG_OWN_REALTY', 'NAME_INCOME_TYPE',\n",
        "                 'NAME_EDUCATION_TYPE', 'NAME_FAMILY_STATUS', 'NAME_HOUSING_TYPE',\n",
        "                 'OCCUPATION_TYPE', 'has_credit_history']\n",
        "\n",
        "label_encoder = LabelEncoder()\n",
        "\n",
        "for col in label_columns:\n",
        "    app_data_cleaned[col] = label_encoder.fit_transform(app_data_cleaned[col])\n",
        "\n",
        "# Step 1: Split the data into features (X) and target (y)\n",
        "X = app_data_cleaned.drop(columns=['ID', 'TARGET'])\n",
        "y = app_data_cleaned['TARGET']\n",
        "\n",
        "\n",
        "\n",
        "# Step 2: Split the data into training and test sets (80% train, 20% test)\n",
        "X_train, X_test, y_train, y_test = train_test_split(X, y, test_size=0.2, random_state=42)\n",
        "\n",
        "# Step 3: Choose a model (e.g., Logistic Regression)\n",
        "model = LogisticRegression(max_iter=1000)\n",
        "\n",
        "# Step 4: Train the model on the training data\n",
        "model.fit(X_train, y_train)\n",
        "\n",
        "# Step 5: Make predictions on the test set\n",
        "y_pred = model.predict(X_test)\n",
        "\n",
        "# Step 6: Evaluate the model\n",
        "accuracy = accuracy_score(y_test, y_pred)\n",
        "print(f\"Accuracy: {accuracy:.4f}\")\n",
        "\n",
        "# Detailed classification report\n",
        "print(\"\\nClassification Report:\")\n",
        "print(classification_report(y_test, y_pred))\n"
      ],
      "metadata": {
        "colab": {
          "base_uri": "https://localhost:8080/"
        },
        "id": "9r9rbCUQJrBr",
        "outputId": "affcf871-5a85-4c60-d204-f9eb64a44098"
      },
      "execution_count": null,
      "outputs": [
        {
          "output_type": "stream",
          "name": "stdout",
          "text": [
            "Accuracy: 1.0000\n",
            "\n",
            "Classification Report:\n",
            "              precision    recall  f1-score   support\n",
            "\n",
            "           0       1.00      1.00      1.00     55778\n",
            "           1       1.00      1.00      1.00      5093\n",
            "\n",
            "    accuracy                           1.00     60871\n",
            "   macro avg       1.00      1.00      1.00     60871\n",
            "weighted avg       1.00      1.00      1.00     60871\n",
            "\n"
          ]
        }
      ]
    },
    {
      "cell_type": "code",
      "source": [
        "from sklearn.model_selection import cross_val_score\n",
        "cross_val_scores = cross_val_score(model, X, y, cv=5)  # 5-fold cross-validation\n",
        "print(f'Cross-validation scores: {cross_val_scores}')\n",
        "print(f'Mean cross-validation score: {cross_val_scores.mean()}')\n"
      ],
      "metadata": {
        "colab": {
          "base_uri": "https://localhost:8080/"
        },
        "id": "mzFottPVLstR",
        "outputId": "23c18a6e-d40d-4ea1-8521-92654c38e166"
      },
      "execution_count": null,
      "outputs": [
        {
          "output_type": "stream",
          "name": "stdout",
          "text": [
            "Cross-validation scores: [1. 1. 1. 1. 1.]\n",
            "Mean cross-validation score: 1.0\n"
          ]
        }
      ]
    },
    {
      "cell_type": "code",
      "source": [
        "from sklearn.metrics import confusion_matrix\n",
        "import seaborn as sns\n",
        "import matplotlib.pyplot as plt\n",
        "\n",
        "cm = confusion_matrix(y_test, y_pred)\n",
        "sns.heatmap(cm, annot=True, fmt='d', cmap='Blues', xticklabels=['0', '1'], yticklabels=['0', '1'])\n",
        "plt.xlabel('Predicted')\n",
        "plt.ylabel('Actual')\n",
        "plt.title('Confusion Matrix')\n",
        "plt.show()\n"
      ],
      "metadata": {
        "colab": {
          "base_uri": "https://localhost:8080/",
          "height": 472
        },
        "id": "vWQ_tPffMzpz",
        "outputId": "5cf628c2-24e7-47c6-e911-a3e7d424d4b4"
      },
      "execution_count": null,
      "outputs": [
        {
          "output_type": "display_data",
          "data": {
            "text/plain": [
              "<Figure size 640x480 with 2 Axes>"
            ],
            "image/png": "[encoded data removed]"
          },
          "metadata": {}
        }
      ]
    },
    {
      "cell_type": "code",
      "source": [
        "from sklearn.preprocessing import StandardScaler\n",
        "\n",
        "# Standardize the features\n",
        "scaler = StandardScaler()\n",
        "X_scaled = scaler.fit_transform(X)\n",
        "\n",
        "# Split the data\n",
        "X_train, X_test, y_train, y_test = train_test_split(X_scaled, y, test_size=0.2, random_state=42)\n",
        "\n",
        "# Re-train the model\n",
        "model = LogisticRegression(max_iter=200)\n",
        "model.fit(X_train, y_train)\n",
        "\n",
        "# Make predictions and evaluate accuracy\n",
        "y_pred = model.predict(X_test)\n",
        "print(f\"Test Accuracy: {accuracy_score(y_test, y_pred)}\")\n"
      ],
      "metadata": {
        "colab": {
          "base_uri": "https://localhost:8080/"
        },
        "id": "ipccuUQyNPbC",
        "outputId": "f272b3f0-6d20-4957-c709-3b188c54f8d9"
      },
      "execution_count": null,
      "outputs": [
        {
          "output_type": "stream",
          "name": "stdout",
          "text": [
            "Test Accuracy: 1.0\n"
          ]
        }
      ]
    },
    {
      "cell_type": "markdown",
      "source": [
        "# Evaluate Additional Metrics"
      ],
      "metadata": {
        "id": "8M1PoQU4O8WH"
      }
    },
    {
      "cell_type": "code",
      "source": [
        "from sklearn.metrics import classification_report, confusion_matrix\n",
        "\n",
        "# Generate classification report\n",
        "print(\"Classification Report:\")\n",
        "print(classification_report(y_test, y_pred))\n",
        "\n",
        "# Generate confusion matrix\n",
        "print(\"Confusion Matrix:\")\n",
        "print(confusion_matrix(y_test, y_pred))\n"
      ],
      "metadata": {
        "colab": {
          "base_uri": "https://localhost:8080/"
        },
        "id": "kZRcPG5gOy4S",
        "outputId": "56b7741b-7007-4cf7-b0d3-f3efee78fc13"
      },
      "execution_count": null,
      "outputs": [
        {
          "output_type": "stream",
          "name": "stdout",
          "text": [
            "Classification Report:\n",
            "              precision    recall  f1-score   support\n",
            "\n",
            "           0       1.00      1.00      1.00     55778\n",
            "           1       1.00      1.00      1.00      5093\n",
            "\n",
            "    accuracy                           1.00     60871\n",
            "   macro avg       1.00      1.00      1.00     60871\n",
            "weighted avg       1.00      1.00      1.00     60871\n",
            "\n",
            "Confusion Matrix:\n",
            "[[55778     0]\n",
            " [    0  5093]]\n"
          ]
        }
      ]
    },
    {
      "cell_type": "code",
      "source": [
        "from sklearn.model_selection import cross_val_score\n",
        "\n",
        "# Perform cross-validation\n",
        "cv_scores = cross_val_score(model, X_scaled, y, cv=5)\n",
        "\n",
        "print(f\"Cross-validation scores: {cv_scores}\")\n",
        "print(f\"Mean cross-validation score: {cv_scores.mean()}\")\n"
      ],
      "metadata": {
        "colab": {
          "base_uri": "https://localhost:8080/"
        },
        "id": "oW1YSKyTPBfW",
        "outputId": "612f71d7-c43c-4bba-82da-f7b9630d576d"
      },
      "execution_count": null,
      "outputs": [
        {
          "output_type": "stream",
          "name": "stdout",
          "text": [
            "Cross-validation scores: [1. 1. 1. 1. 1.]\n",
            "Mean cross-validation score: 1.0\n"
          ]
        }
      ]
    },
    {
      "cell_type": "code",
      "source": [
        "# Get model coefficients (importance of each feature)\n",
        "coefficients = model.coef_[0]\n",
        "feature_importance = list(zip(X.columns, coefficients))\n",
        "\n",
        "# Sort by absolute coefficient value\n",
        "feature_importance = sorted(feature_importance, key=lambda x: abs(x[1]), reverse=True)\n",
        "\n",
        "print(\"Feature Importance:\")\n",
        "for feature, coef in feature_importance:\n",
        "    print(f\"{feature}: {coef}\")\n"
      ],
      "metadata": {
        "colab": {
          "base_uri": "https://localhost:8080/"
        },
        "id": "8ISHMEfqPRiR",
        "outputId": "895a156a-1240-41f0-cc74-226967c1ff59"
      },
      "execution_count": null,
      "outputs": [
        {
          "output_type": "stream",
          "name": "stdout",
          "text": [
            "Feature Importance:\n",
            "has_credit_history: 5.048403714873692\n",
            "CNT_FAM_MEMBERS: -0.04273071987209357\n",
            "CNT_CHILDREN: -0.04034725421330961\n",
            "NAME_FAMILY_STATUS: 0.026859476233167902\n",
            "DAYS_EMPLOYED: 0.017420108174268187\n",
            "Experience: -0.015530866850601288\n",
            "FLAG_OWN_REALTY: -0.006764658203932436\n",
            "FLAG_OWN_CAR: -0.006611244965915872\n",
            "Age: 0.0062741652345596295\n",
            "DAYS_BIRTH: -0.005942968670631107\n",
            "NAME_INCOME_TYPE: -0.004835233616546666\n",
            "NAME_HOUSING_TYPE: 0.00322708272727314\n",
            "OCCUPATION_TYPE: 0.0030807223895158624\n",
            "FLAG_WORK_PHONE: 0.0028287281219149633\n",
            "FLAG_EMAIL: -0.002591719430115382\n",
            "NAME_EDUCATION_TYPE: -0.0021918994301304362\n",
            "AMT_INCOME_TOTAL: 0.001732430773509342\n",
            "FLAG_PHONE: -0.00048060155084371416\n",
            "CODE_GENDER: 0.0\n",
            "FLAG_MOBIL: 0.0\n"
          ]
        }
      ]
    },
    {
      "cell_type": "markdown",
      "source": [
        "# Feature Selection"
      ],
      "metadata": {
        "id": "XDykGs1fPuO1"
      }
    },
    {
      "cell_type": "code",
      "source": [
        "# Drop low-importance features\n",
        "X_reduced = X.drop(columns=['CODE_GENDER', 'FLAG_MOBIL', 'FLAG_PHONE'])\n",
        "\n",
        "# Re-split, train, and evaluate the model\n",
        "X_train, X_test, y_train, y_test = train_test_split(X_reduced, y, test_size=0.2, random_state=42)\n",
        "model = LogisticRegression(max_iter=200)\n",
        "model.fit(X_train, y_train)\n",
        "\n",
        "# Make predictions and evaluate the model\n",
        "y_pred = model.predict(X_test)\n",
        "print(f\"Test Accuracy after feature reduction: {accuracy_score(y_test, y_pred)}\")\n"
      ],
      "metadata": {
        "colab": {
          "base_uri": "https://localhost:8080/"
        },
        "id": "k_Zjhfz2PqHu",
        "outputId": "b1e4c2a0-f94e-47c3-ddf1-5a1d6ca9620b"
      },
      "execution_count": null,
      "outputs": [
        {
          "output_type": "stream",
          "name": "stdout",
          "text": [
            "Test Accuracy after feature reduction: 1.0\n"
          ]
        },
        {
          "output_type": "stream",
          "name": "stderr",
          "text": [
            "/usr/local/lib/python3.10/dist-packages/sklearn/linear_model/_logistic.py:469: ConvergenceWarning: lbfgs failed to converge (status=1):\n",
            "STOP: TOTAL NO. of ITERATIONS REACHED LIMIT.\n",
            "\n",
            "Increase the number of iterations (max_iter) or scale the data as shown in:\n",
            "    https://scikit-learn.org/stable/modules/preprocessing.html\n",
            "Please also refer to the documentation for alternative solver options:\n",
            "    https://scikit-learn.org/stable/modules/linear_model.html#logistic-regression\n",
            "  n_iter_i = _check_optimize_result(\n"
          ]
        }
      ]
    },
    {
      "cell_type": "code",
      "source": [
        "# Re-train the model with more iterations\n",
        "model = LogisticRegression(max_iter=500)\n",
        "model.fit(X_train, y_train)\n",
        "\n",
        "# Make predictions and evaluate\n",
        "y_pred = model.predict(X_test)\n",
        "print(f\"Test Accuracy after increasing max_iter: {accuracy_score(y_test, y_pred)}\")\n"
      ],
      "metadata": {
        "colab": {
          "base_uri": "https://localhost:8080/"
        },
        "id": "C0bjIW5DP93D",
        "outputId": "52364944-e10d-4286-b0ed-54d927714abe"
      },
      "execution_count": null,
      "outputs": [
        {
          "output_type": "stream",
          "name": "stdout",
          "text": [
            "Test Accuracy after increasing max_iter: 1.0\n"
          ]
        }
      ]
    },
    {
      "cell_type": "markdown",
      "source": [
        "Cross-Validation after new feature selection"
      ],
      "metadata": {
        "id": "E6IAt_HXQsZY"
      }
    },
    {
      "cell_type": "code",
      "source": [
        "from sklearn.model_selection import cross_val_score\n",
        "\n",
        "# Cross-validation for Logistic Regression after feature reduction\n",
        "cv_scores = cross_val_score(LogisticRegression(max_iter=500), X_reduced, y, cv=5, scoring='accuracy')\n",
        "print(f\"Cross-validation scores after feature reduction: {cv_scores}\")\n",
        "print(f\"Mean cross-validation score: {cv_scores.mean()}\")\n"
      ],
      "metadata": {
        "colab": {
          "base_uri": "https://localhost:8080/"
        },
        "id": "enk3plvRQGpU",
        "outputId": "f02b0b21-4748-41c8-ed22-4badc7fd2cea"
      },
      "execution_count": null,
      "outputs": [
        {
          "output_type": "stream",
          "name": "stdout",
          "text": [
            "Cross-validation scores after feature reduction: [1. 1. 1. 1. 1.]\n",
            "Mean cross-validation score: 1.0\n"
          ]
        }
      ]
    },
    {
      "cell_type": "code",
      "source": [
        "import joblib\n",
        "# Save the model\n",
        "joblib.dump(model, 'credit_approval_model.pkl')\n"
      ],
      "metadata": {
        "colab": {
          "base_uri": "https://localhost:8080/"
        },
        "id": "_58QTM35Qk5y",
        "outputId": "889232b7-5aaf-45f2-a757-4c9d579e367c"
      },
      "execution_count": null,
      "outputs": [
        {
          "output_type": "execute_result",
          "data": {
            "text/plain": [
              "['credit_approval_model.pkl']"
            ]
          },
          "metadata": {},
          "execution_count": 31
        }
      ]
    },
    {
      "cell_type": "markdown",
      "source": [
        "Model Interpretation & Explainability"
      ],
      "metadata": {
        "id": "fkyPPuxoQ1gJ"
      }
    },
    {
      "cell_type": "code",
      "source": [
        "import numpy as np\n",
        "import matplotlib.pyplot as plt\n",
        "\n",
        "# Get model coefficients\n",
        "coefficients = model.coef_[0]\n",
        "features = X_reduced.columns\n",
        "\n",
        "# Plot feature importance\n",
        "feature_importance = np.abs(coefficients)\n",
        "plt.figure(figsize=(10, 6))\n",
        "plt.barh(features, feature_importance)\n",
        "plt.xlabel('Feature Importance')\n",
        "plt.ylabel('Features')\n",
        "plt.title('Feature Importance in Logistic Regression')\n",
        "plt.show()\n"
      ],
      "metadata": {
        "id": "qalKNDw0Q-SU",
        "outputId": "308b7f49-111a-495f-cb77-da4d5465099a",
        "colab": {
          "base_uri": "https://localhost:8080/",
          "height": 510
        }
      },
      "execution_count": null,
      "outputs": [
        {
          "output_type": "display_data",
          "data": {
            "text/plain": [
              "<Figure size 1000x600 with 1 Axes>"
            ],
            "image/png": "[encoded data removed]"
          },
          "metadata": {}
        }
      ]
    }
  ]
}